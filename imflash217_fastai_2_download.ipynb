{
  "nbformat": 4,
  "nbformat_minor": 0,
  "metadata": {
    "colab": {
      "name": "imflash217_fastai_2_download.ipynb",
      "provenance": [],
      "collapsed_sections": [],
      "include_colab_link": true
    },
    "kernelspec": {
      "name": "python3",
      "display_name": "Python 3"
    },
    "accelerator": "GPU"
  },
  "cells": [
    {
      "cell_type": "markdown",
      "metadata": {
        "id": "view-in-github",
        "colab_type": "text"
      },
      "source": [
        "<a href=\"https://colab.research.google.com/github/vinaykumar2491/Project_MachineLearning/blob/master/imflash217_fastai_2_download.ipynb\" target=\"_parent\"><img src=\"https://colab.research.google.com/assets/colab-badge.svg\" alt=\"Open In Colab\"/></a>"
      ]
    },
    {
      "cell_type": "markdown",
      "metadata": {
        "id": "e-vVkSOzAv3q",
        "colab_type": "text"
      },
      "source": [
        "#Creating your own dataset from google images\n",
        "```\n",
        "In this tutorial we will see how to create our own dataset from google images.\n",
        "NOTE: we need to repeat this process for every new category we want form google images(eg. cats, dogs,  etc.).\n",
        "```"
      ]
    },
    {
      "cell_type": "code",
      "metadata": {
        "id": "D0RJlA6yBWko",
        "colab_type": "code",
        "colab": {}
      },
      "source": [
        "### importing necessary libraries\n",
        "from fastai import *\n",
        "from fastai.vision import *\n",
        "import pathlib"
      ],
      "execution_count": 0,
      "outputs": []
    },
    {
      "cell_type": "markdown",
      "metadata": {
        "id": "lmLnYxEzBkMQ",
        "colab_type": "text"
      },
      "source": [
        "##Step-1: Getting a list of URLs\n",
        "```\n",
        "1.1: Search and scroll\n",
        "1.2: Download into file\n",
        "1.3: Create directory and upload URLs into your workspace\n",
        "```"
      ]
    },
    {
      "cell_type": "markdown",
      "metadata": {
        "id": "0olLrNxUDB2o",
        "colab_type": "text"
      },
      "source": [
        "### 1.1: Search and scroll\n",
        "```\n",
        "A. Go to Google-Images.\n",
        "B. Search for the images you are interested in (more specific query --> better results --> less post-pruning).\n",
        "C. Scroll down untill you've seen all the image syou want to download.\n",
        "D. All the images you have seen now are available for download.\n",
        "```\n",
        "### 1.2: Download into file\n",
        "```\n",
        "E. Disable ad-blocking application in Chrome; otherwise `window.open()` command won't work.\n",
        "F. Press CTRL+SHIFT+J in Win/Linux to open Javascript Console in Chrome.\n",
        "G. Run/Type the following javascript commands into the console:\n",
        "```\n",
        "------------------\n",
        "```javascript\n",
        "urls = Array.from(document.querySelectorAll('.rg_di .rg_meta')).map(el=>JSON.parse(el.textContent).ou);\n",
        "window.open('data:text/csv;charset=utf-8,' + escape(urls.join('\\n')));\n",
        "```\n",
        "------------------\n",
        "### 1.3: Create directory and upload these URLs files into your workspace\n",
        "```\n",
        "H. Choose an appropriate name for your labelled images.\n",
        "I. Repeat steps A-to-H multiple times to download different types of labelled image dataset.\n",
        "J. Upload these URLs-files into your workspace\n",
        "```"
      ]
    },
    {
      "cell_type": "code",
      "metadata": {
        "id": "oPQ3L_RwG3XO",
        "colab_type": "code",
        "colab": {}
      },
      "source": [
        "classes = [\"black\", \"teddys\", \"grizzly\"]\n",
        "URLs_files = [\"urls_black.csv\", \"urls_teddys.csv\", \"urls_grizzly.csv\"]\n",
        "path = pathlib.Path(\"data/bears\")\n",
        "\n",
        "for folder in classes:\n",
        "    dest = path/folder\n",
        "    dest.mkdir(parents=True, exist_ok=True)"
      ],
      "execution_count": 0,
      "outputs": []
    },
    {
      "cell_type": "code",
      "metadata": {
        "id": "i9idQp81JDRW",
        "colab_type": "code",
        "colab": {
          "base_uri": "https://localhost:8080/",
          "height": 329
        },
        "outputId": "92df97cd-5d7a-4f88-960f-5fa1ac40bc66"
      },
      "source": [
        "# !apt install tree\n",
        "!tree ."
      ],
      "execution_count": 25,
      "outputs": [
        {
          "output_type": "stream",
          "text": [
            ".\n",
            "├── data\n",
            "│   └── bears\n",
            "│       ├── black\n",
            "│       ├── grizzly\n",
            "│       ├── teddys\n",
            "│       ├── urls_black.csv\n",
            "│       ├── urls_grizzly.csv\n",
            "│       └── urls_teddys.csv\n",
            "└── sample_data\n",
            "    ├── anscombe.json\n",
            "    ├── california_housing_test.csv\n",
            "    ├── california_housing_train.csv\n",
            "    ├── mnist_test.csv\n",
            "    ├── mnist_train_small.csv\n",
            "    └── README.md\n",
            "\n",
            "6 directories, 9 files\n"
          ],
          "name": "stdout"
        }
      ]
    },
    {
      "cell_type": "markdown",
      "metadata": {
        "id": "6iOH4k2bCYhC",
        "colab_type": "text"
      },
      "source": [
        "##Step-2: Download Images"
      ]
    },
    {
      "cell_type": "code",
      "metadata": {
        "id": "BxClJZOILroB",
        "colab_type": "code",
        "colab": {}
      },
      "source": [
        "max_pics = 200              ## maximum number of images to be downloaded\n",
        "for idx, folder in enumerate(classes):\n",
        "    download_images(urls=path/URLs_files[idx], dest=path/folder, max_pics=max_pics)"
      ],
      "execution_count": 0,
      "outputs": []
    },
    {
      "cell_type": "code",
      "metadata": {
        "id": "tl81tcvRLrvj",
        "colab_type": "code",
        "colab": {}
      },
      "source": [
        "### remove any images that can't be opened\n",
        "for c in classes:\n",
        "    print(c)\n",
        "    verify_images(path=path/c, delete=True, max_size=500)"
      ],
      "execution_count": 0,
      "outputs": []
    },
    {
      "cell_type": "code",
      "metadata": {
        "id": "yIq0gpg8Lr06",
        "colab_type": "code",
        "colab": {
          "base_uri": "https://localhost:8080/",
          "height": 121
        },
        "outputId": "39551ab1-d473-4261-fb87-f54eb0a0ce28"
      },
      "source": [
        "## Checking for the total number of legit images for each category\n",
        "for c in classes:\n",
        "    print(c)\n",
        "    ! ls data/bears/\"{c}\" | wc -l"
      ],
      "execution_count": 38,
      "outputs": [
        {
          "output_type": "stream",
          "text": [
            "black\n",
            "184\n",
            "teddys\n",
            "187\n",
            "grizzly\n",
            "180\n"
          ],
          "name": "stdout"
        }
      ]
    },
    {
      "cell_type": "markdown",
      "metadata": {
        "id": "OcBh9BlXCfU9",
        "colab_type": "text"
      },
      "source": [
        "## Step-3: View data"
      ]
    },
    {
      "cell_type": "code",
      "metadata": {
        "id": "ycI83QLyOsol",
        "colab_type": "code",
        "colab": {}
      },
      "source": [
        ""
      ],
      "execution_count": 0,
      "outputs": []
    },
    {
      "cell_type": "code",
      "metadata": {
        "id": "fKLBJRtEOssd",
        "colab_type": "code",
        "colab": {}
      },
      "source": [
        ""
      ],
      "execution_count": 0,
      "outputs": []
    },
    {
      "cell_type": "code",
      "metadata": {
        "id": "CrYWw3otOsyi",
        "colab_type": "code",
        "colab": {}
      },
      "source": [
        ""
      ],
      "execution_count": 0,
      "outputs": []
    },
    {
      "cell_type": "code",
      "metadata": {
        "id": "mdreQ8XFOsvb",
        "colab_type": "code",
        "colab": {}
      },
      "source": [
        ""
      ],
      "execution_count": 0,
      "outputs": []
    },
    {
      "cell_type": "markdown",
      "metadata": {
        "id": "-8GuTPuiCjk9",
        "colab_type": "text"
      },
      "source": [
        "## Step-4: Train model"
      ]
    },
    {
      "cell_type": "markdown",
      "metadata": {
        "id": "3LJ-A7T5CpxL",
        "colab_type": "text"
      },
      "source": [
        "## Step-5: Interpret results"
      ]
    },
    {
      "cell_type": "markdown",
      "metadata": {
        "id": "lm8-0HtiC1Fi",
        "colab_type": "text"
      },
      "source": [
        "##Step-6: Cleanup"
      ]
    }
  ]
}