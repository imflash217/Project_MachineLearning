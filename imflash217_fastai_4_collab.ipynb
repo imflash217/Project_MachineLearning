{
  "nbformat": 4,
  "nbformat_minor": 0,
  "metadata": {
    "colab": {
      "name": "imflash217_fastai_4_collab.ipynb",
      "provenance": [],
      "collapsed_sections": [],
      "include_colab_link": true
    },
    "kernelspec": {
      "name": "python3",
      "display_name": "Python 3"
    },
    "accelerator": "GPU"
  },
  "cells": [
    {
      "cell_type": "markdown",
      "metadata": {
        "id": "view-in-github",
        "colab_type": "text"
      },
      "source": [
        "<a href=\"https://colab.research.google.com/github/vinaykumar2491/Project_MachineLearning/blob/master/imflash217_fastai_4_collab.ipynb\" target=\"_parent\"><img src=\"https://colab.research.google.com/assets/colab-badge.svg\" alt=\"Open In Colab\"/></a>"
      ]
    },
    {
      "cell_type": "markdown",
      "metadata": {
        "id": "OpN15QFqCxHj",
        "colab_type": "text"
      },
      "source": [
        "## Collaborative Filtering:"
      ]
    },
    {
      "cell_type": "code",
      "metadata": {
        "id": "tv_fSXAxC8jC",
        "colab_type": "code",
        "colab": {}
      },
      "source": [
        "from fastai.collab import *\n",
        "from fastai.tabular import *"
      ],
      "execution_count": 0,
      "outputs": []
    },
    {
      "cell_type": "markdown",
      "metadata": {
        "id": "Sh4o34p8DFuW",
        "colab_type": "text"
      },
      "source": [
        "```\n",
        "`collab` models use data in a `DataFrame` of user, items, ratings\n",
        "```"
      ]
    },
    {
      "cell_type": "code",
      "metadata": {
        "id": "-6fAgFk0FLWx",
        "colab_type": "code",
        "colab": {}
      },
      "source": [
        "user, item, title = \"userID\", \"movieID\", \"title\""
      ],
      "execution_count": 0,
      "outputs": []
    },
    {
      "cell_type": "code",
      "metadata": {
        "id": "1G2lsV7VFT8S",
        "colab_type": "code",
        "colab": {
          "base_uri": "https://localhost:8080/",
          "height": 35
        },
        "outputId": "a3ee3756-af60-497f-ba07-29b134c66aec"
      },
      "source": [
        "### movie-lens sample dataset\n",
        "path = untar_data(url=URLs.ML_SAMPLE)\n",
        "path"
      ],
      "execution_count": 4,
      "outputs": [
        {
          "output_type": "execute_result",
          "data": {
            "text/plain": [
              "PosixPath('/root/.fastai/data/movie_lens_sample')"
            ]
          },
          "metadata": {
            "tags": []
          },
          "execution_count": 4
        }
      ]
    },
    {
      "cell_type": "code",
      "metadata": {
        "id": "grSVwvjYFZp6",
        "colab_type": "code",
        "colab": {
          "base_uri": "https://localhost:8080/",
          "height": 35
        },
        "outputId": "8abd4b06-5e3d-42c6-d5a9-c3f8dec7f8d1"
      },
      "source": [
        "path.ls()"
      ],
      "execution_count": 5,
      "outputs": [
        {
          "output_type": "execute_result",
          "data": {
            "text/plain": [
              "[PosixPath('/root/.fastai/data/movie_lens_sample/ratings.csv')]"
            ]
          },
          "metadata": {
            "tags": []
          },
          "execution_count": 5
        }
      ]
    },
    {
      "cell_type": "code",
      "metadata": {
        "id": "vDMYOsQjFkCR",
        "colab_type": "code",
        "colab": {
          "base_uri": "https://localhost:8080/",
          "height": 202
        },
        "outputId": "fe4ec788-77e4-4927-cbc4-5d77afd6702a"
      },
      "source": [
        "ratings = pd.read_csv(path/\"ratings.csv\")\n",
        "ratings.head()"
      ],
      "execution_count": 6,
      "outputs": [
        {
          "output_type": "execute_result",
          "data": {
            "text/html": [
              "<div>\n",
              "<style scoped>\n",
              "    .dataframe tbody tr th:only-of-type {\n",
              "        vertical-align: middle;\n",
              "    }\n",
              "\n",
              "    .dataframe tbody tr th {\n",
              "        vertical-align: top;\n",
              "    }\n",
              "\n",
              "    .dataframe thead th {\n",
              "        text-align: right;\n",
              "    }\n",
              "</style>\n",
              "<table border=\"1\" class=\"dataframe\">\n",
              "  <thead>\n",
              "    <tr style=\"text-align: right;\">\n",
              "      <th></th>\n",
              "      <th>userId</th>\n",
              "      <th>movieId</th>\n",
              "      <th>rating</th>\n",
              "      <th>timestamp</th>\n",
              "    </tr>\n",
              "  </thead>\n",
              "  <tbody>\n",
              "    <tr>\n",
              "      <th>0</th>\n",
              "      <td>73</td>\n",
              "      <td>1097</td>\n",
              "      <td>4.0</td>\n",
              "      <td>1255504951</td>\n",
              "    </tr>\n",
              "    <tr>\n",
              "      <th>1</th>\n",
              "      <td>561</td>\n",
              "      <td>924</td>\n",
              "      <td>3.5</td>\n",
              "      <td>1172695223</td>\n",
              "    </tr>\n",
              "    <tr>\n",
              "      <th>2</th>\n",
              "      <td>157</td>\n",
              "      <td>260</td>\n",
              "      <td>3.5</td>\n",
              "      <td>1291598691</td>\n",
              "    </tr>\n",
              "    <tr>\n",
              "      <th>3</th>\n",
              "      <td>358</td>\n",
              "      <td>1210</td>\n",
              "      <td>5.0</td>\n",
              "      <td>957481884</td>\n",
              "    </tr>\n",
              "    <tr>\n",
              "      <th>4</th>\n",
              "      <td>130</td>\n",
              "      <td>316</td>\n",
              "      <td>2.0</td>\n",
              "      <td>1138999234</td>\n",
              "    </tr>\n",
              "  </tbody>\n",
              "</table>\n",
              "</div>"
            ],
            "text/plain": [
              "   userId  movieId  rating   timestamp\n",
              "0      73     1097     4.0  1255504951\n",
              "1     561      924     3.5  1172695223\n",
              "2     157      260     3.5  1291598691\n",
              "3     358     1210     5.0   957481884\n",
              "4     130      316     2.0  1138999234"
            ]
          },
          "metadata": {
            "tags": []
          },
          "execution_count": 6
        }
      ]
    },
    {
      "cell_type": "code",
      "metadata": {
        "id": "l_hAubQfMEe9",
        "colab_type": "code",
        "colab": {}
      },
      "source": [
        "### Thats all we need to create and train a collab filter model"
      ],
      "execution_count": 0,
      "outputs": []
    },
    {
      "cell_type": "code",
      "metadata": {
        "id": "IAmSoAi5MLlv",
        "colab_type": "code",
        "colab": {}
      },
      "source": [
        "data = CollabDataBunch.from_df(ratings=ratings, seed=217)"
      ],
      "execution_count": 0,
      "outputs": []
    },
    {
      "cell_type": "code",
      "metadata": {
        "id": "rfBYr-eFMYFK",
        "colab_type": "code",
        "colab": {}
      },
      "source": [
        "### We need to be careful about choosing the range of y values because the actual rantings are in \n",
        "### range inclusive [0, 5]; thus we need to increase the outer bound to higher than 5, so that \n",
        "### our models can predict exact 5 too.\n",
        "\n",
        "y_range = [0, 5.5]"
      ],
      "execution_count": 0,
      "outputs": []
    },
    {
      "cell_type": "code",
      "metadata": {
        "id": "b9GjCP3VOjYV",
        "colab_type": "code",
        "colab": {}
      },
      "source": [
        "### creating the learner\n",
        "\n",
        "learner = collab_learner(data=data, n_factors=50, y_range=y_range)"
      ],
      "execution_count": 0,
      "outputs": []
    },
    {
      "cell_type": "code",
      "metadata": {
        "id": "5Uur6LK7OyvH",
        "colab_type": "code",
        "colab": {
          "base_uri": "https://localhost:8080/",
          "height": 505
        },
        "outputId": "0fd09db3-6358-4c96-a8db-95f9e03dc252"
      },
      "source": [
        "learner"
      ],
      "execution_count": 11,
      "outputs": [
        {
          "output_type": "execute_result",
          "data": {
            "text/plain": [
              "CollabLearner(data=TabularDataBunch;\n",
              "\n",
              "Train: LabelList (4825 items)\n",
              "x: CollabList\n",
              "userId 561; movieId 924; ,userId 157; movieId 260; ,userId 358; movieId 1210; ,userId 130; movieId 316; ,userId 580; movieId 1196; \n",
              "y: FloatList\n",
              "3.5,3.5,5.0,2.0,4.0\n",
              "Path: .;\n",
              "\n",
              "Valid: LabelList (1206 items)\n",
              "x: CollabList\n",
              "userId 388; movieId 260; ,userId 247; movieId 380; ,userId 294; movieId 2997; ,userId 313; movieId 1721; ,userId 262; movieId 4963; \n",
              "y: FloatList\n",
              "4.5,4.0,3.0,5.0,1.5\n",
              "Path: .;\n",
              "\n",
              "Test: None, model=EmbeddingDotBias(\n",
              "  (u_weight): Embedding(101, 50)\n",
              "  (i_weight): Embedding(101, 50)\n",
              "  (u_bias): Embedding(101, 1)\n",
              "  (i_bias): Embedding(101, 1)\n",
              "), opt_func=functools.partial(<class 'torch.optim.adam.Adam'>, betas=(0.9, 0.99)), loss_func=FlattenedLoss of MSELoss(), metrics=[], true_wd=True, bn_wd=True, wd=0.01, train_bn=True, path=PosixPath('.'), model_dir='models', callback_fns=[functools.partial(<class 'fastai.basic_train.Recorder'>, add_time=True, silent=False)], callbacks=[], layer_groups=[Sequential(\n",
              "  (0): Embedding(101, 50)\n",
              "  (1): Embedding(101, 50)\n",
              "  (2): Embedding(101, 1)\n",
              "  (3): Embedding(101, 1)\n",
              ")], add_time=True, silent=False)"
            ]
          },
          "metadata": {
            "tags": []
          },
          "execution_count": 11
        }
      ]
    },
    {
      "cell_type": "code",
      "metadata": {
        "id": "tn8-pFovOzio",
        "colab_type": "code",
        "colab": {
          "base_uri": "https://localhost:8080/",
          "height": 35
        },
        "outputId": "83c13ccc-3a9a-4392-d52b-3beb60e26276"
      },
      "source": [
        "learner.lr_find()"
      ],
      "execution_count": 12,
      "outputs": [
        {
          "output_type": "display_data",
          "data": {
            "text/html": [
              ""
            ],
            "text/plain": [
              "<IPython.core.display.HTML object>"
            ]
          },
          "metadata": {
            "tags": []
          }
        },
        {
          "output_type": "stream",
          "text": [
            "LR Finder is complete, type {learner_name}.recorder.plot() to see the graph.\n"
          ],
          "name": "stdout"
        }
      ]
    },
    {
      "cell_type": "code",
      "metadata": {
        "id": "AjnKROicO4Gw",
        "colab_type": "code",
        "colab": {
          "base_uri": "https://localhost:8080/",
          "height": 283
        },
        "outputId": "486ecc1e-9bfe-46d1-e23e-2fd8e8e09818"
      },
      "source": [
        "learner.recorder.plot()"
      ],
      "execution_count": 13,
      "outputs": [
        {
          "output_type": "display_data",
          "data": {
            "image/png": "[encoded data removed]",
            "text/plain": [
              "<Figure size 432x288 with 1 Axes>"
            ]
          },
          "metadata": {
            "tags": []
          }
        }
      ]
    },
    {
      "cell_type": "code",
      "metadata": {
        "id": "mV4HXUAtO7E5",
        "colab_type": "code",
        "colab": {}
      },
      "source": [
        "lr = 1e-2"
      ],
      "execution_count": 0,
      "outputs": []
    },
    {
      "cell_type": "code",
      "metadata": {
        "id": "UanaLYuNPJf7",
        "colab_type": "code",
        "colab": {
          "base_uri": "https://localhost:8080/",
          "height": 202
        },
        "outputId": "8bf4b8ec-b6a8-44cb-c393-19fc99c66853"
      },
      "source": [
        "learner.fit_one_cycle(cyc_len=5, max_lr=lr)"
      ],
      "execution_count": 15,
      "outputs": [
        {
          "output_type": "display_data",
          "data": {
            "text/html": [
              "<table border=\"1\" class=\"dataframe\">\n",
              "  <thead>\n",
              "    <tr style=\"text-align: left;\">\n",
              "      <th>epoch</th>\n",
              "      <th>train_loss</th>\n",
              "      <th>valid_loss</th>\n",
              "      <th>time</th>\n",
              "    </tr>\n",
              "  </thead>\n",
              "  <tbody>\n",
              "    <tr>\n",
              "      <td>0</td>\n",
              "      <td>1.622040</td>\n",
              "      <td>0.797816</td>\n",
              "      <td>00:00</td>\n",
              "    </tr>\n",
              "    <tr>\n",
              "      <td>1</td>\n",
              "      <td>0.859473</td>\n",
              "      <td>0.682831</td>\n",
              "      <td>00:00</td>\n",
              "    </tr>\n",
              "    <tr>\n",
              "      <td>2</td>\n",
              "      <td>0.614571</td>\n",
              "      <td>0.629733</td>\n",
              "      <td>00:00</td>\n",
              "    </tr>\n",
              "    <tr>\n",
              "      <td>3</td>\n",
              "      <td>0.447145</td>\n",
              "      <td>0.615962</td>\n",
              "      <td>00:00</td>\n",
              "    </tr>\n",
              "    <tr>\n",
              "      <td>4</td>\n",
              "      <td>0.357331</td>\n",
              "      <td>0.614314</td>\n",
              "      <td>00:00</td>\n",
              "    </tr>\n",
              "  </tbody>\n",
              "</table>"
            ],
            "text/plain": [
              "<IPython.core.display.HTML object>"
            ]
          },
          "metadata": {
            "tags": []
          }
        }
      ]
    },
    {
      "cell_type": "markdown",
      "metadata": {
        "id": "ag3WPTRsPNPX",
        "colab_type": "text"
      },
      "source": [
        "## MOVIELENS-100K dataset\n",
        "\n",
        "Lets try the full movielens-100k dataset available at http://files.grouplens.org/datasets/movielens/ml-100k.zip"
      ]
    },
    {
      "cell_type": "code",
      "metadata": {
        "id": "FHkiPDZ6PfSX",
        "colab_type": "code",
        "colab": {
          "base_uri": "https://localhost:8080/",
          "height": 35
        },
        "outputId": "db27695a-5083-49af-ef9a-2e5f4b96605e"
      },
      "source": [
        "Config.data_path()"
      ],
      "execution_count": 20,
      "outputs": [
        {
          "output_type": "execute_result",
          "data": {
            "text/plain": [
              "PosixPath('/root/.fastai/data')"
            ]
          },
          "metadata": {
            "tags": []
          },
          "execution_count": 20
        }
      ]
    },
    {
      "cell_type": "code",
      "metadata": {
        "id": "UQSVcekhPytj",
        "colab_type": "code",
        "colab": {
          "base_uri": "https://localhost:8080/",
          "height": 35
        },
        "outputId": "5ceacf3d-f446-4670-fba6-f094cfea6b5e"
      },
      "source": [
        "path"
      ],
      "execution_count": 18,
      "outputs": [
        {
          "output_type": "execute_result",
          "data": {
            "text/plain": [
              "PosixPath('/root/.fastai/data/movie_lens_sample')"
            ]
          },
          "metadata": {
            "tags": []
          },
          "execution_count": 18
        }
      ]
    },
    {
      "cell_type": "code",
      "metadata": {
        "id": "FHMR4C0CQePl",
        "colab_type": "code",
        "colab": {}
      },
      "source": [
        "data_path = Config.data_path()"
      ],
      "execution_count": 0,
      "outputs": []
    },
    {
      "cell_type": "code",
      "metadata": {
        "id": "tdgA6THzQRbZ",
        "colab_type": "code",
        "colab": {
          "base_uri": "https://localhost:8080/",
          "height": 312
        },
        "outputId": "e97ec4bb-064c-46bc-8c18-d4c5701554da"
      },
      "source": [
        "!wget http://files.grouplens.org/datasets/movielens/ml-100k.zip"
      ],
      "execution_count": 29,
      "outputs": [
        {
          "output_type": "stream",
          "text": [
            "--2019-10-12 13:57:42--  http://files.grouplens.org/datasets/movielens/ml-100k.zip\n",
            "Resolving files.grouplens.org (files.grouplens.org)... 128.101.65.152\n",
            "Connecting to files.grouplens.org (files.grouplens.org)|128.101.65.152|:80... connected.\n",
            "HTTP request sent, awaiting response... 200 OK\n",
            "Length: 4924029 (4.7M) [application/zip]\n",
            "Saving to: ‘ml-100k.zip.1’\n",
            "\n",
            "\rml-100k.zip.1         0%[                    ]       0  --.-KB/s               \rml-100k.zip.1         2%[                    ] 106.66K   362KB/s               \rml-100k.zip.1        18%[==>                 ] 891.46K  1.48MB/s               \rml-100k.zip.1        82%[===============>    ]   3.86M  4.89MB/s               \rml-100k.zip.1       100%[===================>]   4.70M  5.91MB/s    in 0.8s    \n",
            "\n",
            "2019-10-12 13:57:43 (5.91 MB/s) - ‘ml-100k.zip.1’ saved [4924029/4924029]\n",
            "\n",
            "--2019-10-12 13:57:43--  http://data_path/\n",
            "Resolving data_path (data_path)... failed: Name or service not known.\n",
            "wget: unable to resolve host address ‘data_path’\n",
            "FINISHED --2019-10-12 13:57:43--\n",
            "Total wall clock time: 1.0s\n",
            "Downloaded: 1 files, 4.7M in 0.8s (5.91 MB/s)\n"
          ],
          "name": "stdout"
        }
      ]
    },
    {
      "cell_type": "code",
      "metadata": {
        "id": "9k_X5Wb3QuHx",
        "colab_type": "code",
        "colab": {}
      },
      "source": [
        "!mv data_path ml-100k.zip"
      ],
      "execution_count": 0,
      "outputs": []
    },
    {
      "cell_type": "code",
      "metadata": {
        "id": "ARARn0Y8RYt-",
        "colab_type": "code",
        "colab": {
          "base_uri": "https://localhost:8080/",
          "height": 35
        },
        "outputId": "8fc7b563-7fbd-495b-90dd-ef55c86b3d5b"
      },
      "source": [
        "ls"
      ],
      "execution_count": 39,
      "outputs": [
        {
          "output_type": "stream",
          "text": [
            "ml-100k.zip  \u001b[0m\u001b[01;34mmodels\u001b[0m/  \u001b[01;34msample_data\u001b[0m/\n"
          ],
          "name": "stdout"
        }
      ]
    },
    {
      "cell_type": "code",
      "metadata": {
        "id": "GUP53wMvR0Rb",
        "colab_type": "code",
        "colab": {}
      },
      "source": [
        "!cp ml-100k.zip /root/.fastai/data/"
      ],
      "execution_count": 0,
      "outputs": []
    },
    {
      "cell_type": "code",
      "metadata": {
        "id": "pvuSxpz1SNQv",
        "colab_type": "code",
        "colab": {
          "base_uri": "https://localhost:8080/",
          "height": 69
        },
        "outputId": "b6710301-2e1e-4b1c-da4d-2a0d83bca848"
      },
      "source": [
        "!ls /root/.fastai/data/ml-100k"
      ],
      "execution_count": 65,
      "outputs": [
        {
          "output_type": "stream",
          "text": [
            "allbut.pl  u1.base  u2.test  u4.base  u5.test  ub.base\tu.genre  u.occupation\n",
            "mku.sh\t   u1.test  u3.base  u4.test  ua.base  ub.test\tu.info\t u.user\n",
            "README\t   u2.base  u3.test  u5.base  ua.test  u.data\tu.item\n"
          ],
          "name": "stdout"
        }
      ]
    },
    {
      "cell_type": "code",
      "metadata": {
        "id": "Kge3CauGS8zI",
        "colab_type": "code",
        "colab": {
          "base_uri": "https://localhost:8080/",
          "height": 69
        },
        "outputId": "bc051072-f172-48fe-c804-83a664168878"
      },
      "source": [
        "!unzip /root/.fastai/data/ml-100k.zip"
      ],
      "execution_count": 60,
      "outputs": [
        {
          "output_type": "stream",
          "text": [
            "Archive:  /root/.fastai/data/ml-100k.zip\n",
            "replace ml-100k/allbut.pl? [y]es, [n]o, [A]ll, [N]one, [r]ename: n\n",
            "replace ml-100k/mku.sh? [y]es, [n]o, [A]ll, [N]one, [r]ename: "
          ],
          "name": "stdout"
        }
      ]
    },
    {
      "cell_type": "code",
      "metadata": {
        "id": "EHXJphm8S8wy",
        "colab_type": "code",
        "colab": {}
      },
      "source": [
        "!cp -r ml-100k /root/.fastai/data/"
      ],
      "execution_count": 0,
      "outputs": []
    },
    {
      "cell_type": "code",
      "metadata": {
        "id": "PAT-T3BYUArb",
        "colab_type": "code",
        "colab": {
          "base_uri": "https://localhost:8080/",
          "height": 35
        },
        "outputId": "1978f508-612f-4c3b-e05b-e62290561c99"
      },
      "source": [
        "ls"
      ],
      "execution_count": 61,
      "outputs": [
        {
          "output_type": "stream",
          "text": [
            "\u001b[0m\u001b[01;34mml-100k\u001b[0m/  ml-100k.zip  \u001b[01;34mmodels\u001b[0m/  \u001b[01;34msample_data\u001b[0m/\n"
          ],
          "name": "stdout"
        }
      ]
    },
    {
      "cell_type": "code",
      "metadata": {
        "id": "nuNPTuYkUmpD",
        "colab_type": "code",
        "colab": {}
      },
      "source": [
        ""
      ],
      "execution_count": 0,
      "outputs": []
    },
    {
      "cell_type": "code",
      "metadata": {
        "id": "DSJ3uwV1Ums1",
        "colab_type": "code",
        "colab": {}
      },
      "source": [
        ""
      ],
      "execution_count": 0,
      "outputs": []
    },
    {
      "cell_type": "code",
      "metadata": {
        "id": "CINV_MyLP3Dp",
        "colab_type": "code",
        "colab": {}
      },
      "source": [
        "path = Config.data_path()/\"ml-100k\""
      ],
      "execution_count": 0,
      "outputs": []
    },
    {
      "cell_type": "code",
      "metadata": {
        "id": "8bfOs-IeQGuq",
        "colab_type": "code",
        "colab": {
          "base_uri": "https://localhost:8080/",
          "height": 35
        },
        "outputId": "3ef42643-a909-459b-bd32-b191b9d5ddac"
      },
      "source": [
        "path"
      ],
      "execution_count": 67,
      "outputs": [
        {
          "output_type": "execute_result",
          "data": {
            "text/plain": [
              "PosixPath('/root/.fastai/data/ml-100k')"
            ]
          },
          "metadata": {
            "tags": []
          },
          "execution_count": 67
        }
      ]
    },
    {
      "cell_type": "code",
      "metadata": {
        "id": "AqsKkrraUumo",
        "colab_type": "code",
        "colab": {
          "base_uri": "https://localhost:8080/",
          "height": 416
        },
        "outputId": "a3cc8f96-c4be-4525-db4c-d386d2b38a72"
      },
      "source": [
        "path.ls()"
      ],
      "execution_count": 68,
      "outputs": [
        {
          "output_type": "execute_result",
          "data": {
            "text/plain": [
              "[PosixPath('/root/.fastai/data/ml-100k/ua.test'),\n",
              " PosixPath('/root/.fastai/data/ml-100k/u5.base'),\n",
              " PosixPath('/root/.fastai/data/ml-100k/README'),\n",
              " PosixPath('/root/.fastai/data/ml-100k/u.info'),\n",
              " PosixPath('/root/.fastai/data/ml-100k/u4.test'),\n",
              " PosixPath('/root/.fastai/data/ml-100k/u.item'),\n",
              " PosixPath('/root/.fastai/data/ml-100k/allbut.pl'),\n",
              " PosixPath('/root/.fastai/data/ml-100k/u2.test'),\n",
              " PosixPath('/root/.fastai/data/ml-100k/ub.test'),\n",
              " PosixPath('/root/.fastai/data/ml-100k/ua.base'),\n",
              " PosixPath('/root/.fastai/data/ml-100k/u5.test'),\n",
              " PosixPath('/root/.fastai/data/ml-100k/u4.base'),\n",
              " PosixPath('/root/.fastai/data/ml-100k/u3.test'),\n",
              " PosixPath('/root/.fastai/data/ml-100k/u.genre'),\n",
              " PosixPath('/root/.fastai/data/ml-100k/u.data'),\n",
              " PosixPath('/root/.fastai/data/ml-100k/u.user'),\n",
              " PosixPath('/root/.fastai/data/ml-100k/u1.test'),\n",
              " PosixPath('/root/.fastai/data/ml-100k/u3.base'),\n",
              " PosixPath('/root/.fastai/data/ml-100k/u2.base'),\n",
              " PosixPath('/root/.fastai/data/ml-100k/u.occupation'),\n",
              " PosixPath('/root/.fastai/data/ml-100k/mku.sh'),\n",
              " PosixPath('/root/.fastai/data/ml-100k/ub.base'),\n",
              " PosixPath('/root/.fastai/data/ml-100k/u1.base')]"
            ]
          },
          "metadata": {
            "tags": []
          },
          "execution_count": 68
        }
      ]
    },
    {
      "cell_type": "code",
      "metadata": {
        "id": "Y6Fs3XvrQH-D",
        "colab_type": "code",
        "colab": {
          "base_uri": "https://localhost:8080/",
          "height": 202
        },
        "outputId": "016dba63-394f-4cf2-c6c8-051c1e1ebc90"
      },
      "source": [
        "ratings = pd.read_csv(path/\"u.data\", delimiter=\"\\t\", header=None, names=[user, item, \"rating\", \"timestamp\"])\n",
        "ratings.head()"
      ],
      "execution_count": 69,
      "outputs": [
        {
          "output_type": "execute_result",
          "data": {
            "text/html": [
              "<div>\n",
              "<style scoped>\n",
              "    .dataframe tbody tr th:only-of-type {\n",
              "        vertical-align: middle;\n",
              "    }\n",
              "\n",
              "    .dataframe tbody tr th {\n",
              "        vertical-align: top;\n",
              "    }\n",
              "\n",
              "    .dataframe thead th {\n",
              "        text-align: right;\n",
              "    }\n",
              "</style>\n",
              "<table border=\"1\" class=\"dataframe\">\n",
              "  <thead>\n",
              "    <tr style=\"text-align: right;\">\n",
              "      <th></th>\n",
              "      <th>userID</th>\n",
              "      <th>movieID</th>\n",
              "      <th>rating</th>\n",
              "      <th>timestamp</th>\n",
              "    </tr>\n",
              "  </thead>\n",
              "  <tbody>\n",
              "    <tr>\n",
              "      <th>0</th>\n",
              "      <td>196</td>\n",
              "      <td>242</td>\n",
              "      <td>3</td>\n",
              "      <td>881250949</td>\n",
              "    </tr>\n",
              "    <tr>\n",
              "      <th>1</th>\n",
              "      <td>186</td>\n",
              "      <td>302</td>\n",
              "      <td>3</td>\n",
              "      <td>891717742</td>\n",
              "    </tr>\n",
              "    <tr>\n",
              "      <th>2</th>\n",
              "      <td>22</td>\n",
              "      <td>377</td>\n",
              "      <td>1</td>\n",
              "      <td>878887116</td>\n",
              "    </tr>\n",
              "    <tr>\n",
              "      <th>3</th>\n",
              "      <td>244</td>\n",
              "      <td>51</td>\n",
              "      <td>2</td>\n",
              "      <td>880606923</td>\n",
              "    </tr>\n",
              "    <tr>\n",
              "      <th>4</th>\n",
              "      <td>166</td>\n",
              "      <td>346</td>\n",
              "      <td>1</td>\n",
              "      <td>886397596</td>\n",
              "    </tr>\n",
              "  </tbody>\n",
              "</table>\n",
              "</div>"
            ],
            "text/plain": [
              "   userID  movieID  rating  timestamp\n",
              "0     196      242       3  881250949\n",
              "1     186      302       3  891717742\n",
              "2      22      377       1  878887116\n",
              "3     244       51       2  880606923\n",
              "4     166      346       1  886397596"
            ]
          },
          "metadata": {
            "tags": []
          },
          "execution_count": 69
        }
      ]
    },
    {
      "cell_type": "code",
      "metadata": {
        "id": "UQhJyv_fSwlm",
        "colab_type": "code",
        "colab": {
          "base_uri": "https://localhost:8080/",
          "height": 375
        },
        "outputId": "708d4252-f995-4f50-c701-df4cb7ac2eae"
      },
      "source": [
        "movies = pd.read_csv(path/\"u.item\", delimiter=\"|\", encoding=\"latin-1\", header=None, \n",
        "                     names=[item, \"title\", \"date\", \"N\", \"url\", *[f\"g{i}\" for i in range(19)]])\n",
        "movies.head()"
      ],
      "execution_count": 70,
      "outputs": [
        {
          "output_type": "execute_result",
          "data": {
            "text/html": [
              "<div>\n",
              "<style scoped>\n",
              "    .dataframe tbody tr th:only-of-type {\n",
              "        vertical-align: middle;\n",
              "    }\n",
              "\n",
              "    .dataframe tbody tr th {\n",
              "        vertical-align: top;\n",
              "    }\n",
              "\n",
              "    .dataframe thead th {\n",
              "        text-align: right;\n",
              "    }\n",
              "</style>\n",
              "<table border=\"1\" class=\"dataframe\">\n",
              "  <thead>\n",
              "    <tr style=\"text-align: right;\">\n",
              "      <th></th>\n",
              "      <th>movieID</th>\n",
              "      <th>title</th>\n",
              "      <th>date</th>\n",
              "      <th>N</th>\n",
              "      <th>url</th>\n",
              "      <th>g0</th>\n",
              "      <th>g1</th>\n",
              "      <th>g2</th>\n",
              "      <th>g3</th>\n",
              "      <th>g4</th>\n",
              "      <th>g5</th>\n",
              "      <th>g6</th>\n",
              "      <th>g7</th>\n",
              "      <th>g8</th>\n",
              "      <th>g9</th>\n",
              "      <th>g10</th>\n",
              "      <th>g11</th>\n",
              "      <th>g12</th>\n",
              "      <th>g13</th>\n",
              "      <th>g14</th>\n",
              "      <th>g15</th>\n",
              "      <th>g16</th>\n",
              "      <th>g17</th>\n",
              "      <th>g18</th>\n",
              "    </tr>\n",
              "  </thead>\n",
              "  <tbody>\n",
              "    <tr>\n",
              "      <th>0</th>\n",
              "      <td>1</td>\n",
              "      <td>Toy Story (1995)</td>\n",
              "      <td>01-Jan-1995</td>\n",
              "      <td>NaN</td>\n",
              "      <td>http://us.imdb.com/M/title-exact?Toy%20Story%2...</td>\n",
              "      <td>0</td>\n",
              "      <td>0</td>\n",
              "      <td>0</td>\n",
              "      <td>1</td>\n",
              "      <td>1</td>\n",
              "      <td>1</td>\n",
              "      <td>0</td>\n",
              "      <td>0</td>\n",
              "      <td>0</td>\n",
              "      <td>0</td>\n",
              "      <td>0</td>\n",
              "      <td>0</td>\n",
              "      <td>0</td>\n",
              "      <td>0</td>\n",
              "      <td>0</td>\n",
              "      <td>0</td>\n",
              "      <td>0</td>\n",
              "      <td>0</td>\n",
              "      <td>0</td>\n",
              "    </tr>\n",
              "    <tr>\n",
              "      <th>1</th>\n",
              "      <td>2</td>\n",
              "      <td>GoldenEye (1995)</td>\n",
              "      <td>01-Jan-1995</td>\n",
              "      <td>NaN</td>\n",
              "      <td>http://us.imdb.com/M/title-exact?GoldenEye%20(...</td>\n",
              "      <td>0</td>\n",
              "      <td>1</td>\n",
              "      <td>1</td>\n",
              "      <td>0</td>\n",
              "      <td>0</td>\n",
              "      <td>0</td>\n",
              "      <td>0</td>\n",
              "      <td>0</td>\n",
              "      <td>0</td>\n",
              "      <td>0</td>\n",
              "      <td>0</td>\n",
              "      <td>0</td>\n",
              "      <td>0</td>\n",
              "      <td>0</td>\n",
              "      <td>0</td>\n",
              "      <td>0</td>\n",
              "      <td>1</td>\n",
              "      <td>0</td>\n",
              "      <td>0</td>\n",
              "    </tr>\n",
              "    <tr>\n",
              "      <th>2</th>\n",
              "      <td>3</td>\n",
              "      <td>Four Rooms (1995)</td>\n",
              "      <td>01-Jan-1995</td>\n",
              "      <td>NaN</td>\n",
              "      <td>http://us.imdb.com/M/title-exact?Four%20Rooms%...</td>\n",
              "      <td>0</td>\n",
              "      <td>0</td>\n",
              "      <td>0</td>\n",
              "      <td>0</td>\n",
              "      <td>0</td>\n",
              "      <td>0</td>\n",
              "      <td>0</td>\n",
              "      <td>0</td>\n",
              "      <td>0</td>\n",
              "      <td>0</td>\n",
              "      <td>0</td>\n",
              "      <td>0</td>\n",
              "      <td>0</td>\n",
              "      <td>0</td>\n",
              "      <td>0</td>\n",
              "      <td>0</td>\n",
              "      <td>1</td>\n",
              "      <td>0</td>\n",
              "      <td>0</td>\n",
              "    </tr>\n",
              "    <tr>\n",
              "      <th>3</th>\n",
              "      <td>4</td>\n",
              "      <td>Get Shorty (1995)</td>\n",
              "      <td>01-Jan-1995</td>\n",
              "      <td>NaN</td>\n",
              "      <td>http://us.imdb.com/M/title-exact?Get%20Shorty%...</td>\n",
              "      <td>0</td>\n",
              "      <td>1</td>\n",
              "      <td>0</td>\n",
              "      <td>0</td>\n",
              "      <td>0</td>\n",
              "      <td>1</td>\n",
              "      <td>0</td>\n",
              "      <td>0</td>\n",
              "      <td>1</td>\n",
              "      <td>0</td>\n",
              "      <td>0</td>\n",
              "      <td>0</td>\n",
              "      <td>0</td>\n",
              "      <td>0</td>\n",
              "      <td>0</td>\n",
              "      <td>0</td>\n",
              "      <td>0</td>\n",
              "      <td>0</td>\n",
              "      <td>0</td>\n",
              "    </tr>\n",
              "    <tr>\n",
              "      <th>4</th>\n",
              "      <td>5</td>\n",
              "      <td>Copycat (1995)</td>\n",
              "      <td>01-Jan-1995</td>\n",
              "      <td>NaN</td>\n",
              "      <td>http://us.imdb.com/M/title-exact?Copycat%20(1995)</td>\n",
              "      <td>0</td>\n",
              "      <td>0</td>\n",
              "      <td>0</td>\n",
              "      <td>0</td>\n",
              "      <td>0</td>\n",
              "      <td>0</td>\n",
              "      <td>1</td>\n",
              "      <td>0</td>\n",
              "      <td>1</td>\n",
              "      <td>0</td>\n",
              "      <td>0</td>\n",
              "      <td>0</td>\n",
              "      <td>0</td>\n",
              "      <td>0</td>\n",
              "      <td>0</td>\n",
              "      <td>0</td>\n",
              "      <td>1</td>\n",
              "      <td>0</td>\n",
              "      <td>0</td>\n",
              "    </tr>\n",
              "  </tbody>\n",
              "</table>\n",
              "</div>"
            ],
            "text/plain": [
              "   movieID              title         date   N  ... g15  g16  g17  g18\n",
              "0        1   Toy Story (1995)  01-Jan-1995 NaN  ...   0    0    0    0\n",
              "1        2   GoldenEye (1995)  01-Jan-1995 NaN  ...   0    1    0    0\n",
              "2        3  Four Rooms (1995)  01-Jan-1995 NaN  ...   0    1    0    0\n",
              "3        4  Get Shorty (1995)  01-Jan-1995 NaN  ...   0    0    0    0\n",
              "4        5     Copycat (1995)  01-Jan-1995 NaN  ...   0    1    0    0\n",
              "\n",
              "[5 rows x 24 columns]"
            ]
          },
          "metadata": {
            "tags": []
          },
          "execution_count": 70
        }
      ]
    },
    {
      "cell_type": "code",
      "metadata": {
        "id": "Uvmqi00EXGSW",
        "colab_type": "code",
        "colab": {
          "base_uri": "https://localhost:8080/",
          "height": 35
        },
        "outputId": "7f35c354-bc7f-40dc-8ff4-3b4d2de2c4db"
      },
      "source": [
        "len(ratings)"
      ],
      "execution_count": 71,
      "outputs": [
        {
          "output_type": "execute_result",
          "data": {
            "text/plain": [
              "100000"
            ]
          },
          "metadata": {
            "tags": []
          },
          "execution_count": 71
        }
      ]
    },
    {
      "cell_type": "code",
      "metadata": {
        "id": "rFIZGL0FXGXk",
        "colab_type": "code",
        "colab": {
          "base_uri": "https://localhost:8080/",
          "height": 202
        },
        "outputId": "1d0f5218-2b81-4d93-9847-9efd007b25b8"
      },
      "source": [
        "rating_movie = ratings.merge(movies[[item, title]])\n",
        "rating_movie.head()"
      ],
      "execution_count": 72,
      "outputs": [
        {
          "output_type": "execute_result",
          "data": {
            "text/html": [
              "<div>\n",
              "<style scoped>\n",
              "    .dataframe tbody tr th:only-of-type {\n",
              "        vertical-align: middle;\n",
              "    }\n",
              "\n",
              "    .dataframe tbody tr th {\n",
              "        vertical-align: top;\n",
              "    }\n",
              "\n",
              "    .dataframe thead th {\n",
              "        text-align: right;\n",
              "    }\n",
              "</style>\n",
              "<table border=\"1\" class=\"dataframe\">\n",
              "  <thead>\n",
              "    <tr style=\"text-align: right;\">\n",
              "      <th></th>\n",
              "      <th>userID</th>\n",
              "      <th>movieID</th>\n",
              "      <th>rating</th>\n",
              "      <th>timestamp</th>\n",
              "      <th>title</th>\n",
              "    </tr>\n",
              "  </thead>\n",
              "  <tbody>\n",
              "    <tr>\n",
              "      <th>0</th>\n",
              "      <td>196</td>\n",
              "      <td>242</td>\n",
              "      <td>3</td>\n",
              "      <td>881250949</td>\n",
              "      <td>Kolya (1996)</td>\n",
              "    </tr>\n",
              "    <tr>\n",
              "      <th>1</th>\n",
              "      <td>63</td>\n",
              "      <td>242</td>\n",
              "      <td>3</td>\n",
              "      <td>875747190</td>\n",
              "      <td>Kolya (1996)</td>\n",
              "    </tr>\n",
              "    <tr>\n",
              "      <th>2</th>\n",
              "      <td>226</td>\n",
              "      <td>242</td>\n",
              "      <td>5</td>\n",
              "      <td>883888671</td>\n",
              "      <td>Kolya (1996)</td>\n",
              "    </tr>\n",
              "    <tr>\n",
              "      <th>3</th>\n",
              "      <td>154</td>\n",
              "      <td>242</td>\n",
              "      <td>3</td>\n",
              "      <td>879138235</td>\n",
              "      <td>Kolya (1996)</td>\n",
              "    </tr>\n",
              "    <tr>\n",
              "      <th>4</th>\n",
              "      <td>306</td>\n",
              "      <td>242</td>\n",
              "      <td>5</td>\n",
              "      <td>876503793</td>\n",
              "      <td>Kolya (1996)</td>\n",
              "    </tr>\n",
              "  </tbody>\n",
              "</table>\n",
              "</div>"
            ],
            "text/plain": [
              "   userID  movieID  rating  timestamp         title\n",
              "0     196      242       3  881250949  Kolya (1996)\n",
              "1      63      242       3  875747190  Kolya (1996)\n",
              "2     226      242       5  883888671  Kolya (1996)\n",
              "3     154      242       3  879138235  Kolya (1996)\n",
              "4     306      242       5  876503793  Kolya (1996)"
            ]
          },
          "metadata": {
            "tags": []
          },
          "execution_count": 72
        }
      ]
    },
    {
      "cell_type": "code",
      "metadata": {
        "id": "WPqlWRsnXGf0",
        "colab_type": "code",
        "colab": {}
      },
      "source": [
        "data = CollabDataBunch.from_df(ratings=rating_movie, seed=217, valid_pct=0.1, item_name=title)"
      ],
      "execution_count": 0,
      "outputs": []
    },
    {
      "cell_type": "code",
      "metadata": {
        "id": "NbzeGDh_XGd9",
        "colab_type": "code",
        "colab": {
          "base_uri": "https://localhost:8080/",
          "height": 202
        },
        "outputId": "f95be94c-7b77-427c-d7a6-2ee3cabe36ef"
      },
      "source": [
        "data.show_batch()"
      ],
      "execution_count": 74,
      "outputs": [
        {
          "output_type": "display_data",
          "data": {
            "text/html": [
              "<table border=\"1\" class=\"dataframe\">\n",
              "  <thead>\n",
              "    <tr style=\"text-align: right;\">\n",
              "      <th>userID</th>\n",
              "      <th>title</th>\n",
              "      <th>target</th>\n",
              "    </tr>\n",
              "  </thead>\n",
              "  <tbody>\n",
              "    <tr>\n",
              "      <td>267</td>\n",
              "      <td>Vampire in Brooklyn (1995)</td>\n",
              "      <td>2.0</td>\n",
              "    </tr>\n",
              "    <tr>\n",
              "      <td>584</td>\n",
              "      <td>Jurassic Park (1993)</td>\n",
              "      <td>3.0</td>\n",
              "    </tr>\n",
              "    <tr>\n",
              "      <td>711</td>\n",
              "      <td>That Thing You Do! (1996)</td>\n",
              "      <td>4.0</td>\n",
              "    </tr>\n",
              "    <tr>\n",
              "      <td>328</td>\n",
              "      <td>Replacement Killers, The (1998)</td>\n",
              "      <td>2.0</td>\n",
              "    </tr>\n",
              "    <tr>\n",
              "      <td>509</td>\n",
              "      <td>Flubber (1997)</td>\n",
              "      <td>1.0</td>\n",
              "    </tr>\n",
              "  </tbody>\n",
              "</table>"
            ],
            "text/plain": [
              "<IPython.core.display.HTML object>"
            ]
          },
          "metadata": {
            "tags": []
          }
        }
      ]
    },
    {
      "cell_type": "code",
      "metadata": {
        "id": "kPxcXYV-XGcR",
        "colab_type": "code",
        "colab": {}
      },
      "source": [
        "y_range = [0, 5.5]"
      ],
      "execution_count": 0,
      "outputs": []
    },
    {
      "cell_type": "code",
      "metadata": {
        "id": "YscCjG7TXGU_",
        "colab_type": "code",
        "colab": {
          "base_uri": "https://localhost:8080/",
          "height": 505
        },
        "outputId": "b39c99a8-b901-489e-d920-032d9765aa5e"
      },
      "source": [
        "learner = collab_learner(data=data, n_factors=50, y_range=y_range, wd=1e-1)\n",
        "learner"
      ],
      "execution_count": 76,
      "outputs": [
        {
          "output_type": "execute_result",
          "data": {
            "text/plain": [
              "CollabLearner(data=TabularDataBunch;\n",
              "\n",
              "Train: LabelList (90000 items)\n",
              "x: CollabList\n",
              "userID 63; title Kolya (1996); ,userID 226; title Kolya (1996); ,userID 154; title Kolya (1996); ,userID 306; title Kolya (1996); ,userID 296; title Kolya (1996); \n",
              "y: FloatList\n",
              "3.0,5.0,3.0,5.0,4.0\n",
              "Path: .;\n",
              "\n",
              "Valid: LabelList (10000 items)\n",
              "x: CollabList\n",
              "userID 892; title Sleepless in Seattle (1993); ,userID 429; title Men in Black (1997); ,userID 361; title Clueless (1995); ,userID 554; title Mirror Has Two Faces, The (1996); ,userID 82; title Return of the Jedi (1983); \n",
              "y: FloatList\n",
              "4.0,4.0,3.0,3.0,4.0\n",
              "Path: .;\n",
              "\n",
              "Test: None, model=EmbeddingDotBias(\n",
              "  (u_weight): Embedding(944, 50)\n",
              "  (i_weight): Embedding(1653, 50)\n",
              "  (u_bias): Embedding(944, 1)\n",
              "  (i_bias): Embedding(1653, 1)\n",
              "), opt_func=functools.partial(<class 'torch.optim.adam.Adam'>, betas=(0.9, 0.99)), loss_func=FlattenedLoss of MSELoss(), metrics=[], true_wd=True, bn_wd=True, wd=0.1, train_bn=True, path=PosixPath('.'), model_dir='models', callback_fns=[functools.partial(<class 'fastai.basic_train.Recorder'>, add_time=True, silent=False)], callbacks=[], layer_groups=[Sequential(\n",
              "  (0): Embedding(944, 50)\n",
              "  (1): Embedding(1653, 50)\n",
              "  (2): Embedding(944, 1)\n",
              "  (3): Embedding(1653, 1)\n",
              ")], add_time=True, silent=False)"
            ]
          },
          "metadata": {
            "tags": []
          },
          "execution_count": 76
        }
      ]
    },
    {
      "cell_type": "code",
      "metadata": {
        "id": "nBGnwpKgXGQy",
        "colab_type": "code",
        "colab": {
          "base_uri": "https://localhost:8080/",
          "height": 301
        },
        "outputId": "8976ba97-536b-40ee-f655-67a6a5b5726d"
      },
      "source": [
        "learner.lr_find()\n",
        "learner.recorder.plot()"
      ],
      "execution_count": 77,
      "outputs": [
        {
          "output_type": "display_data",
          "data": {
            "text/html": [
              ""
            ],
            "text/plain": [
              "<IPython.core.display.HTML object>"
            ]
          },
          "metadata": {
            "tags": []
          }
        },
        {
          "output_type": "stream",
          "text": [
            "LR Finder is complete, type {learner_name}.recorder.plot() to see the graph.\n"
          ],
          "name": "stdout"
        },
        {
          "output_type": "display_data",
          "data": {
            "image/png": "[encoded data removed]",
            "text/plain": [
              "<Figure size 432x288 with 1 Axes>"
            ]
          },
          "metadata": {
            "tags": []
          }
        }
      ]
    },
    {
      "cell_type": "code",
      "metadata": {
        "id": "3zm6aO1mY8Kh",
        "colab_type": "code",
        "colab": {}
      },
      "source": [
        "lr = 1e-2"
      ],
      "execution_count": 0,
      "outputs": []
    },
    {
      "cell_type": "code",
      "metadata": {
        "id": "MiOiq5_cZAn4",
        "colab_type": "code",
        "colab": {
          "base_uri": "https://localhost:8080/",
          "height": 202
        },
        "outputId": "664014c9-4baf-4259-d757-2c3ee83bc0f0"
      },
      "source": [
        "learner.fit_one_cycle(cyc_len=5, max_lr=lr)"
      ],
      "execution_count": 79,
      "outputs": [
        {
          "output_type": "display_data",
          "data": {
            "text/html": [
              "<table border=\"1\" class=\"dataframe\">\n",
              "  <thead>\n",
              "    <tr style=\"text-align: left;\">\n",
              "      <th>epoch</th>\n",
              "      <th>train_loss</th>\n",
              "      <th>valid_loss</th>\n",
              "      <th>time</th>\n",
              "    </tr>\n",
              "  </thead>\n",
              "  <tbody>\n",
              "    <tr>\n",
              "      <td>0</td>\n",
              "      <td>0.955864</td>\n",
              "      <td>0.947186</td>\n",
              "      <td>00:13</td>\n",
              "    </tr>\n",
              "    <tr>\n",
              "      <td>1</td>\n",
              "      <td>0.903883</td>\n",
              "      <td>0.898492</td>\n",
              "      <td>00:13</td>\n",
              "    </tr>\n",
              "    <tr>\n",
              "      <td>2</td>\n",
              "      <td>0.782507</td>\n",
              "      <td>0.850356</td>\n",
              "      <td>00:13</td>\n",
              "    </tr>\n",
              "    <tr>\n",
              "      <td>3</td>\n",
              "      <td>0.596034</td>\n",
              "      <td>0.815962</td>\n",
              "      <td>00:13</td>\n",
              "    </tr>\n",
              "    <tr>\n",
              "      <td>4</td>\n",
              "      <td>0.423958</td>\n",
              "      <td>0.816631</td>\n",
              "      <td>00:13</td>\n",
              "    </tr>\n",
              "  </tbody>\n",
              "</table>"
            ],
            "text/plain": [
              "<IPython.core.display.HTML object>"
            ]
          },
          "metadata": {
            "tags": []
          }
        }
      ]
    },
    {
      "cell_type": "code",
      "metadata": {
        "id": "C76AM_BHZLby",
        "colab_type": "code",
        "colab": {}
      },
      "source": [
        "learner.save(\"dotprod\")"
      ],
      "execution_count": 0,
      "outputs": []
    },
    {
      "cell_type": "code",
      "metadata": {
        "id": "FZbPEve9ZZZU",
        "colab_type": "code",
        "colab": {}
      },
      "source": [
        ""
      ],
      "execution_count": 0,
      "outputs": []
    },
    {
      "cell_type": "markdown",
      "metadata": {
        "id": "mbUKhPukZdS2",
        "colab_type": "text"
      },
      "source": [
        "## Interpretation"
      ]
    },
    {
      "cell_type": "markdown",
      "metadata": {
        "id": "RqgFsjw8baZv",
        "colab_type": "text"
      },
      "source": [
        "### setup:"
      ]
    },
    {
      "cell_type": "code",
      "metadata": {
        "id": "M13dvPinZfSg",
        "colab_type": "code",
        "colab": {
          "base_uri": "https://localhost:8080/",
          "height": 505
        },
        "outputId": "2c23075f-746c-457b-9f95-57492976eefd"
      },
      "source": [
        "learner.load(\"dotprod\")"
      ],
      "execution_count": 84,
      "outputs": [
        {
          "output_type": "execute_result",
          "data": {
            "text/plain": [
              "CollabLearner(data=TabularDataBunch;\n",
              "\n",
              "Train: LabelList (90000 items)\n",
              "x: CollabList\n",
              "userID 63; title Kolya (1996); ,userID 226; title Kolya (1996); ,userID 154; title Kolya (1996); ,userID 306; title Kolya (1996); ,userID 296; title Kolya (1996); \n",
              "y: FloatList\n",
              "3.0,5.0,3.0,5.0,4.0\n",
              "Path: .;\n",
              "\n",
              "Valid: LabelList (10000 items)\n",
              "x: CollabList\n",
              "userID 892; title Sleepless in Seattle (1993); ,userID 429; title Men in Black (1997); ,userID 361; title Clueless (1995); ,userID 554; title Mirror Has Two Faces, The (1996); ,userID 82; title Return of the Jedi (1983); \n",
              "y: FloatList\n",
              "4.0,4.0,3.0,3.0,4.0\n",
              "Path: .;\n",
              "\n",
              "Test: None, model=EmbeddingDotBias(\n",
              "  (u_weight): Embedding(944, 50)\n",
              "  (i_weight): Embedding(1653, 50)\n",
              "  (u_bias): Embedding(944, 1)\n",
              "  (i_bias): Embedding(1653, 1)\n",
              "), opt_func=functools.partial(<class 'torch.optim.adam.Adam'>, betas=(0.9, 0.99)), loss_func=FlattenedLoss of MSELoss(), metrics=[], true_wd=True, bn_wd=True, wd=0.1, train_bn=True, path=PosixPath('.'), model_dir='models', callback_fns=[functools.partial(<class 'fastai.basic_train.Recorder'>, add_time=True, silent=False)], callbacks=[], layer_groups=[Sequential(\n",
              "  (0): Embedding(944, 50)\n",
              "  (1): Embedding(1653, 50)\n",
              "  (2): Embedding(944, 1)\n",
              "  (3): Embedding(1653, 1)\n",
              ")], add_time=True, silent=False)"
            ]
          },
          "metadata": {
            "tags": []
          },
          "execution_count": 84
        }
      ]
    },
    {
      "cell_type": "code",
      "metadata": {
        "id": "8ZtvzARzaoBG",
        "colab_type": "code",
        "colab": {
          "base_uri": "https://localhost:8080/",
          "height": 121
        },
        "outputId": "2353f532-a702-429c-a0ee-7d7fd650cf76"
      },
      "source": [
        "learner.model"
      ],
      "execution_count": 82,
      "outputs": [
        {
          "output_type": "execute_result",
          "data": {
            "text/plain": [
              "EmbeddingDotBias(\n",
              "  (u_weight): Embedding(944, 50)\n",
              "  (i_weight): Embedding(1653, 50)\n",
              "  (u_bias): Embedding(944, 1)\n",
              "  (i_bias): Embedding(1653, 1)\n",
              ")"
            ]
          },
          "metadata": {
            "tags": []
          },
          "execution_count": 82
        }
      ]
    },
    {
      "cell_type": "code",
      "metadata": {
        "id": "mVvhpGp6ap5-",
        "colab_type": "code",
        "colab": {
          "base_uri": "https://localhost:8080/",
          "height": 1000
        },
        "outputId": "b5e4faa9-b79e-4f07-b815-3b514f518d3a"
      },
      "source": [
        "g = rating_movie.groupby(title)[\"rating\"].count()\n",
        "g"
      ],
      "execution_count": 85,
      "outputs": [
        {
          "output_type": "execute_result",
          "data": {
            "text/plain": [
              "title\n",
              "'Til There Was You (1997)                                     9\n",
              "1-900 (1994)                                                  5\n",
              "101 Dalmatians (1996)                                       109\n",
              "12 Angry Men (1957)                                         125\n",
              "187 (1997)                                                   41\n",
              "2 Days in the Valley (1996)                                  93\n",
              "20,000 Leagues Under the Sea (1954)                          72\n",
              "2001: A Space Odyssey (1968)                                259\n",
              "3 Ninjas: High Noon At Mega Mountain (1998)                   5\n",
              "39 Steps, The (1935)                                         59\n",
              "8 1/2 (1963)                                                 38\n",
              "8 Heads in a Duffel Bag (1997)                                4\n",
              "8 Seconds (1994)                                              4\n",
              "A Chef in Love (1996)                                         8\n",
              "Above the Rim (1994)                                          5\n",
              "Absolute Power (1997)                                       127\n",
              "Abyss, The (1989)                                           151\n",
              "Ace Ventura: Pet Detective (1994)                           103\n",
              "Ace Ventura: When Nature Calls (1995)                        37\n",
              "Across the Sea of Time (1995)                                 4\n",
              "Addams Family Values (1993)                                  87\n",
              "Addicted to Love (1997)                                      54\n",
              "Addiction, The (1995)                                        11\n",
              "Adventures of Pinocchio, The (1996)                          39\n",
              "Adventures of Priscilla, Queen of the Desert, The (1994)    111\n",
              "Adventures of Robin Hood, The (1938)                         67\n",
              "Affair to Remember, An (1957)                                26\n",
              "African Queen, The (1951)                                   152\n",
              "Afterglow (1997)                                             18\n",
              "Age of Innocence, The (1993)                                 65\n",
              "                                                           ... \n",
              "Window to Paris (1994)                                        1\n",
              "Wings of Courage (1995)                                       1\n",
              "Wings of Desire (1987)                                       57\n",
              "Wings of the Dove, The (1997)                                75\n",
              "Winnie the Pooh and the Blustery Day (1968)                  75\n",
              "Winter Guest, The (1997)                                      9\n",
              "Wishmaster (1997)                                            27\n",
              "With Honors (1994)                                           46\n",
              "Withnail and I (1987)                                        13\n",
              "Witness (1985)                                                1\n",
              "Wizard of Oz, The (1939)                                    246\n",
              "Wolf (1994)                                                  67\n",
              "Woman in Question, The (1950)                                 1\n",
              "Women, The (1939)                                            15\n",
              "Wonderful, Horrible Life of Leni Riefenstahl, The (1993)     10\n",
              "Wonderland (1997)                                            10\n",
              "Wooden Man's Bride, The (Wu Kui) (1994)                       3\n",
              "World of Apu, The (Apur Sansar) (1959)                        6\n",
              "Wrong Trousers, The (1993)                                  118\n",
              "Wyatt Earp (1994)                                            50\n",
              "Yankee Zulu (1994)                                            1\n",
              "Year of the Horse (1997)                                      7\n",
              "You So Crazy (1994)                                           1\n",
              "Young Frankenstein (1974)                                   200\n",
              "Young Guns (1988)                                           101\n",
              "Young Guns II (1990)                                         44\n",
              "Young Poisoner's Handbook, The (1995)                        41\n",
              "Zeus and Roxanne (1997)                                       6\n",
              "unknown                                                       9\n",
              "Á köldum klaka (Cold Fever) (1994)                            1\n",
              "Name: rating, Length: 1664, dtype: int64"
            ]
          },
          "metadata": {
            "tags": []
          },
          "execution_count": 85
        }
      ]
    },
    {
      "cell_type": "code",
      "metadata": {
        "id": "OZRkEgJlbBcN",
        "colab_type": "code",
        "colab": {
          "base_uri": "https://localhost:8080/",
          "height": 69
        },
        "outputId": "87a03f0d-fd03-4ed3-e0ed-8c8a4b0b2f85"
      },
      "source": [
        "top_movies = g.sort_values(ascending=False).index.values[:1000]\n",
        "top_movies[:10]"
      ],
      "execution_count": 87,
      "outputs": [
        {
          "output_type": "execute_result",
          "data": {
            "text/plain": [
              "array(['Star Wars (1977)', 'Contact (1997)', 'Fargo (1996)', 'Return of the Jedi (1983)', 'Liar Liar (1997)',\n",
              "       'English Patient, The (1996)', 'Scream (1996)', 'Toy Story (1995)', 'Air Force One (1997)',\n",
              "       'Independence Day (ID4) (1996)'], dtype=object)"
            ]
          },
          "metadata": {
            "tags": []
          },
          "execution_count": 87
        }
      ]
    },
    {
      "cell_type": "markdown",
      "metadata": {
        "id": "UAAr3honbREt",
        "colab_type": "text"
      },
      "source": [
        "### movie bias:"
      ]
    },
    {
      "cell_type": "code",
      "metadata": {
        "id": "lVqGSUFabg5x",
        "colab_type": "code",
        "colab": {
          "base_uri": "https://localhost:8080/",
          "height": 35
        },
        "outputId": "6ecfe9d7-72d7-446c-e084-8cd790a139f6"
      },
      "source": [
        "movie_bias = learner.bias(arr=top_movies, is_item=True)\n",
        "movie_bias.shape"
      ],
      "execution_count": 89,
      "outputs": [
        {
          "output_type": "execute_result",
          "data": {
            "text/plain": [
              "torch.Size([1000])"
            ]
          },
          "metadata": {
            "tags": []
          },
          "execution_count": 89
        }
      ]
    },
    {
      "cell_type": "code",
      "metadata": {
        "id": "Rk94R44C7An1",
        "colab_type": "code",
        "colab": {
          "base_uri": "https://localhost:8080/",
          "height": 1000
        },
        "outputId": "079859cd-2f5f-4a76-8965-a28ca1ab28ec"
      },
      "source": [
        "mean_ratings = rating_movie.groupby(by=title)[\"rating\"].mean()\n",
        "mean_ratings"
      ],
      "execution_count": 91,
      "outputs": [
        {
          "output_type": "execute_result",
          "data": {
            "text/plain": [
              "title\n",
              "'Til There Was You (1997)                                   2.333333\n",
              "1-900 (1994)                                                2.600000\n",
              "101 Dalmatians (1996)                                       2.908257\n",
              "12 Angry Men (1957)                                         4.344000\n",
              "187 (1997)                                                  3.024390\n",
              "2 Days in the Valley (1996)                                 3.225806\n",
              "20,000 Leagues Under the Sea (1954)                         3.500000\n",
              "2001: A Space Odyssey (1968)                                3.969112\n",
              "3 Ninjas: High Noon At Mega Mountain (1998)                 1.000000\n",
              "39 Steps, The (1935)                                        4.050847\n",
              "8 1/2 (1963)                                                3.815789\n",
              "8 Heads in a Duffel Bag (1997)                              3.250000\n",
              "8 Seconds (1994)                                            3.750000\n",
              "A Chef in Love (1996)                                       4.125000\n",
              "Above the Rim (1994)                                        3.000000\n",
              "Absolute Power (1997)                                       3.370079\n",
              "Abyss, The (1989)                                           3.589404\n",
              "Ace Ventura: Pet Detective (1994)                           3.048544\n",
              "Ace Ventura: When Nature Calls (1995)                       2.675676\n",
              "Across the Sea of Time (1995)                               2.750000\n",
              "Addams Family Values (1993)                                 2.816092\n",
              "Addicted to Love (1997)                                     3.166667\n",
              "Addiction, The (1995)                                       2.181818\n",
              "Adventures of Pinocchio, The (1996)                         3.051282\n",
              "Adventures of Priscilla, Queen of the Desert, The (1994)    3.594595\n",
              "Adventures of Robin Hood, The (1938)                        3.791045\n",
              "Affair to Remember, An (1957)                               4.192308\n",
              "African Queen, The (1951)                                   4.184211\n",
              "Afterglow (1997)                                            3.111111\n",
              "Age of Innocence, The (1993)                                3.384615\n",
              "                                                              ...   \n",
              "Window to Paris (1994)                                      4.000000\n",
              "Wings of Courage (1995)                                     4.000000\n",
              "Wings of Desire (1987)                                      4.000000\n",
              "Wings of the Dove, The (1997)                               3.680000\n",
              "Winnie the Pooh and the Blustery Day (1968)                 3.800000\n",
              "Winter Guest, The (1997)                                    3.444444\n",
              "Wishmaster (1997)                                           2.444444\n",
              "With Honors (1994)                                          3.065217\n",
              "Withnail and I (1987)                                       3.230769\n",
              "Witness (1985)                                              4.000000\n",
              "Wizard of Oz, The (1939)                                    4.077236\n",
              "Wolf (1994)                                                 2.701493\n",
              "Woman in Question, The (1950)                               1.000000\n",
              "Women, The (1939)                                           3.666667\n",
              "Wonderful, Horrible Life of Leni Riefenstahl, The (1993)    4.000000\n",
              "Wonderland (1997)                                           3.200000\n",
              "Wooden Man's Bride, The (Wu Kui) (1994)                     2.666667\n",
              "World of Apu, The (Apur Sansar) (1959)                      4.000000\n",
              "Wrong Trousers, The (1993)                                  4.466102\n",
              "Wyatt Earp (1994)                                           3.100000\n",
              "Yankee Zulu (1994)                                          1.000000\n",
              "Year of the Horse (1997)                                    3.285714\n",
              "You So Crazy (1994)                                         3.000000\n",
              "Young Frankenstein (1974)                                   3.945000\n",
              "Young Guns (1988)                                           3.207921\n",
              "Young Guns II (1990)                                        2.772727\n",
              "Young Poisoner's Handbook, The (1995)                       3.341463\n",
              "Zeus and Roxanne (1997)                                     2.166667\n",
              "unknown                                                     3.444444\n",
              "Á köldum klaka (Cold Fever) (1994)                          3.000000\n",
              "Name: rating, Length: 1664, dtype: float64"
            ]
          },
          "metadata": {
            "tags": []
          },
          "execution_count": 91
        }
      ]
    },
    {
      "cell_type": "code",
      "metadata": {
        "id": "PL2r1lcx7csD",
        "colab_type": "code",
        "colab": {}
      },
      "source": [
        "movie_ratings = [(bias, item, mean_ratings.loc[item]) for item, bias in zip(top_movies, movie_bias)]"
      ],
      "execution_count": 0,
      "outputs": []
    },
    {
      "cell_type": "code",
      "metadata": {
        "id": "PZfBCJIT76Gb",
        "colab_type": "code",
        "colab": {
          "base_uri": "https://localhost:8080/",
          "height": 35
        },
        "outputId": "a64cc85b-3d96-444e-c832-7430260cb0e1"
      },
      "source": [
        "top_movies.shape == movie_bias.shape"
      ],
      "execution_count": 92,
      "outputs": [
        {
          "output_type": "execute_result",
          "data": {
            "text/plain": [
              "True"
            ]
          },
          "metadata": {
            "tags": []
          },
          "execution_count": 92
        }
      ]
    },
    {
      "cell_type": "code",
      "metadata": {
        "id": "oi5vgyv78P0N",
        "colab_type": "code",
        "colab": {}
      },
      "source": [
        "get_item0 = lambda o: o[0]"
      ],
      "execution_count": 0,
      "outputs": []
    },
    {
      "cell_type": "code",
      "metadata": {
        "id": "1g_t_mB77-3b",
        "colab_type": "code",
        "colab": {
          "base_uri": "https://localhost:8080/",
          "height": 260
        },
        "outputId": "3b87f9a6-0a06-417e-8287-cb1d965ffca5"
      },
      "source": [
        "sorted(movie_ratings, key=get_item0)[:10]"
      ],
      "execution_count": 99,
      "outputs": [
        {
          "output_type": "execute_result",
          "data": {
            "text/plain": [
              "[(tensor(-0.4592),\n",
              "  'Children of the Corn: The Gathering (1996)',\n",
              "  1.3157894736842106),\n",
              " (tensor(-0.4219),\n",
              "  'Lawnmower Man 2: Beyond Cyberspace (1996)',\n",
              "  1.7142857142857142),\n",
              " (tensor(-0.3881), 'Bio-Dome (1996)', 1.903225806451613),\n",
              " (tensor(-0.3665), 'Leave It to Beaver (1997)', 1.8409090909090908),\n",
              " (tensor(-0.3649), 'Showgirls (1995)', 1.9565217391304348),\n",
              " (tensor(-0.3588), 'Mortal Kombat: Annihilation (1997)', 1.9534883720930232),\n",
              " (tensor(-0.3567), 'Cable Guy, The (1996)', 2.339622641509434),\n",
              " (tensor(-0.3523), 'Free Willy 3: The Rescue (1997)', 1.7407407407407407),\n",
              " (tensor(-0.3472), 'Barb Wire (1996)', 1.9333333333333333),\n",
              " (tensor(-0.3394), 'Island of Dr. Moreau, The (1996)', 2.1578947368421053)]"
            ]
          },
          "metadata": {
            "tags": []
          },
          "execution_count": 99
        }
      ]
    },
    {
      "cell_type": "code",
      "metadata": {
        "id": "sYhH4fW58nGM",
        "colab_type": "code",
        "colab": {
          "base_uri": "https://localhost:8080/",
          "height": 191
        },
        "outputId": "5fb16b6e-5528-46a9-af39-df8f4b0e9c14"
      },
      "source": [
        "sorted(movie_ratings, key=get_item0, reverse=True)[:10]"
      ],
      "execution_count": 101,
      "outputs": [
        {
          "output_type": "execute_result",
          "data": {
            "text/plain": [
              "[(tensor(0.7424), \"Schindler's List (1993)\", 4.466442953020135),\n",
              " (tensor(0.7365), 'Titanic (1997)', 4.2457142857142856),\n",
              " (tensor(0.7132), 'Star Wars (1977)', 4.3584905660377355),\n",
              " (tensor(0.6991), 'Shawshank Redemption, The (1994)', 4.445229681978798),\n",
              " (tensor(0.6666), 'As Good As It Gets (1997)', 4.196428571428571),\n",
              " (tensor(0.6597), 'L.A. Confidential (1997)', 4.161616161616162),\n",
              " (tensor(0.6445), 'Casablanca (1942)', 4.45679012345679),\n",
              " (tensor(0.6316), 'Usual Suspects, The (1995)', 4.385767790262173),\n",
              " (tensor(0.6302), 'Rear Window (1954)', 4.3875598086124405),\n",
              " (tensor(0.6259), 'Good Will Hunting (1997)', 4.262626262626263)]"
            ]
          },
          "metadata": {
            "tags": []
          },
          "execution_count": 101
        }
      ]
    },
    {
      "cell_type": "markdown",
      "metadata": {
        "id": "ILHCQ18982WG",
        "colab_type": "text"
      },
      "source": [
        "## Movie weights:"
      ]
    },
    {
      "cell_type": "code",
      "metadata": {
        "id": "hDVHzkoSUTLk",
        "colab_type": "code",
        "colab": {
          "base_uri": "https://localhost:8080/",
          "height": 35
        },
        "outputId": "be2628c9-a8fb-4b2a-cae3-6260f9dd4d97"
      },
      "source": [
        "movie_w = learner.weight(top_movies, is_item=True)\n",
        "movie_w.shape"
      ],
      "execution_count": 102,
      "outputs": [
        {
          "output_type": "execute_result",
          "data": {
            "text/plain": [
              "torch.Size([1000, 50])"
            ]
          },
          "metadata": {
            "tags": []
          },
          "execution_count": 102
        }
      ]
    },
    {
      "cell_type": "code",
      "metadata": {
        "id": "p8gECpinUeEr",
        "colab_type": "code",
        "colab": {
          "base_uri": "https://localhost:8080/",
          "height": 35
        },
        "outputId": "227f2408-d7bc-447b-a5d7-28091807f6c6"
      },
      "source": [
        "movie_pca = movie_w.pca(k=3)\n",
        "movie_pca.shape"
      ],
      "execution_count": 104,
      "outputs": [
        {
          "output_type": "execute_result",
          "data": {
            "text/plain": [
              "torch.Size([1000, 3])"
            ]
          },
          "metadata": {
            "tags": []
          },
          "execution_count": 104
        }
      ]
    },
    {
      "cell_type": "code",
      "metadata": {
        "id": "FtfSFoyAUwC3",
        "colab_type": "code",
        "colab": {}
      },
      "source": [
        "fac0, fac1, fac2 = movie_pca.t()"
      ],
      "execution_count": 0,
      "outputs": []
    },
    {
      "cell_type": "code",
      "metadata": {
        "id": "SavYY6lSU4xf",
        "colab_type": "code",
        "colab": {}
      },
      "source": [
        "movie_comp = [(f, i) for f,i in zip(fac0, top_movies)]"
      ],
      "execution_count": 0,
      "outputs": []
    },
    {
      "cell_type": "code",
      "metadata": {
        "id": "UWYVFbMGVRqS",
        "colab_type": "code",
        "colab": {
          "base_uri": "https://localhost:8080/",
          "height": 208
        },
        "outputId": "b6e8e58c-c1ed-4c40-a967-1a5fdf7ed959"
      },
      "source": [
        "sorted(movie_comp, key=itemgetter(0), reverse=True)[:10]"
      ],
      "execution_count": 109,
      "outputs": [
        {
          "output_type": "execute_result",
          "data": {
            "text/plain": [
              "[(tensor(1.1638), 'Chinatown (1974)'),\n",
              " (tensor(0.9832), 'Ran (1985)'),\n",
              " (tensor(0.9814), 'Big Sleep, The (1946)'),\n",
              " (tensor(0.9419), 'Clockwork Orange, A (1971)'),\n",
              " (tensor(0.9370),\n",
              "  'Dr. Strangelove or: How I Learned to Stop Worrying and Love the Bomb (1963)'),\n",
              " (tensor(0.9334), 'Casablanca (1942)'),\n",
              " (tensor(0.9318), 'Close Shave, A (1995)'),\n",
              " (tensor(0.9177), 'Citizen Kane (1941)'),\n",
              " (tensor(0.9105), 'Fargo (1996)'),\n",
              " (tensor(0.8923), 'Pulp Fiction (1994)')]"
            ]
          },
          "metadata": {
            "tags": []
          },
          "execution_count": 109
        }
      ]
    },
    {
      "cell_type": "code",
      "metadata": {
        "id": "1SBgbVE8VbSp",
        "colab_type": "code",
        "colab": {
          "base_uri": "https://localhost:8080/",
          "height": 191
        },
        "outputId": "b78161f6-d51b-4632-ea55-2652d63b4778"
      },
      "source": [
        "sorted(movie_comp, key=itemgetter(0))[:10]"
      ],
      "execution_count": 110,
      "outputs": [
        {
          "output_type": "execute_result",
          "data": {
            "text/plain": [
              "[(tensor(-1.1030), 'Jungle2Jungle (1997)'),\n",
              " (tensor(-1.0446), \"McHale's Navy (1997)\"),\n",
              " (tensor(-1.0376), 'Home Alone 3 (1997)'),\n",
              " (tensor(-1.0186), 'Congo (1995)'),\n",
              " (tensor(-1.0037), 'Batman & Robin (1997)'),\n",
              " (tensor(-0.9828), 'Bio-Dome (1996)'),\n",
              " (tensor(-0.9701), 'Shadow Conspiracy (1997)'),\n",
              " (tensor(-0.9312), 'Leave It to Beaver (1997)'),\n",
              " (tensor(-0.8989), 'Super Mario Bros. (1993)'),\n",
              " (tensor(-0.8916), 'Turbulence (1997)')]"
            ]
          },
          "metadata": {
            "tags": []
          },
          "execution_count": 110
        }
      ]
    },
    {
      "cell_type": "code",
      "metadata": {
        "id": "2TDJszVJVlFP",
        "colab_type": "code",
        "colab": {}
      },
      "source": [
        "movie_comp1 = [(f,i) for f,i in zip(fac1, top_movies)]"
      ],
      "execution_count": 0,
      "outputs": []
    },
    {
      "cell_type": "code",
      "metadata": {
        "id": "eZDkvSUxV22L",
        "colab_type": "code",
        "colab": {
          "base_uri": "https://localhost:8080/",
          "height": 191
        },
        "outputId": "0039f386-ba6a-4870-b76d-c17a2c395012"
      },
      "source": [
        "sorted(movie_comp1, key=itemgetter(0), reverse=True)[:10]"
      ],
      "execution_count": 113,
      "outputs": [
        {
          "output_type": "execute_result",
          "data": {
            "text/plain": [
              "[(tensor(0.9300), 'Stupids, The (1996)'),\n",
              " (tensor(0.8303), 'Trainspotting (1996)'),\n",
              " (tensor(0.8230), 'Nosferatu (Nosferatu, eine Symphonie des Grauens) (1922)'),\n",
              " (tensor(0.7493), 'Keys to Tulsa (1997)'),\n",
              " (tensor(0.7196), 'Road to Wellville, The (1994)'),\n",
              " (tensor(0.7076), 'Dead Man (1995)'),\n",
              " (tensor(0.7030), 'Jude (1996)'),\n",
              " (tensor(0.6863), 'Event Horizon (1997)'),\n",
              " (tensor(0.6782), 'Heavenly Creatures (1994)'),\n",
              " (tensor(0.6675), 'Crumb (1994)')]"
            ]
          },
          "metadata": {
            "tags": []
          },
          "execution_count": 113
        }
      ]
    },
    {
      "cell_type": "code",
      "metadata": {
        "id": "OgqrEWQAWCwH",
        "colab_type": "code",
        "colab": {
          "base_uri": "https://localhost:8080/",
          "height": 191
        },
        "outputId": "ada43ab9-781e-490b-f945-d7c7c68f1c49"
      },
      "source": [
        "sorted(movie_comp1, key=itemgetter(0))[:10]"
      ],
      "execution_count": 114,
      "outputs": [
        {
          "output_type": "execute_result",
          "data": {
            "text/plain": [
              "[(tensor(-1.1843), 'Braveheart (1995)'),\n",
              " (tensor(-1.1237), 'Raiders of the Lost Ark (1981)'),\n",
              " (tensor(-0.9705), 'Forrest Gump (1994)'),\n",
              " (tensor(-0.9057), 'Shawshank Redemption, The (1994)'),\n",
              " (tensor(-0.9047), 'Titanic (1997)'),\n",
              " (tensor(-0.8439), 'Back to the Future (1985)'),\n",
              " (tensor(-0.8240), 'Field of Dreams (1989)'),\n",
              " (tensor(-0.8007), 'Hunt for Red October, The (1990)'),\n",
              " (tensor(-0.7975), 'American President, The (1995)'),\n",
              " (tensor(-0.7830), 'Ghost (1990)')]"
            ]
          },
          "metadata": {
            "tags": []
          },
          "execution_count": 114
        }
      ]
    },
    {
      "cell_type": "code",
      "metadata": {
        "id": "aLkRmNbUWPUc",
        "colab_type": "code",
        "colab": {
          "base_uri": "https://localhost:8080/",
          "height": 867
        },
        "outputId": "384cd820-bf83-4cfd-aae9-1b675b37edc7"
      },
      "source": [
        "idxs = np.random.choice(len(top_movies), 50, replace=False)\n",
        "# idxs = list(range(50))\n",
        "X = fac0[idxs]\n",
        "Y = fac1[idxs]\n",
        "plt.figure(figsize=(15,15))\n",
        "plt.scatter(X, Y)\n",
        "for i, x, y in zip(top_movies[idxs], X, Y):\n",
        "    plt.text(x,y,i, color=np.random.rand(3)*0.7, fontsize=10)\n",
        "plt.show()"
      ],
      "execution_count": 120,
      "outputs": [
        {
          "output_type": "display_data",
          "data": {
            "image/png": "[encoded data removed]",
            "text/plain": [
              "<Figure size 1080x1080 with 1 Axes>"
            ]
          },
          "metadata": {
            "tags": []
          }
        }
      ]
    },
    {
      "cell_type": "code",
      "metadata": {
        "id": "BKTrjCGkXeEj",
        "colab_type": "code",
        "colab": {}
      },
      "source": [
        ""
      ],
      "execution_count": 0,
      "outputs": []
    }
  ]
}